{
  "nbformat": 4,
  "nbformat_minor": 0,
  "metadata": {
    "colab": {
      "provenance": [],
      "authorship_tag": "ABX9TyPlfSSod6Ja8/5/hbVkgkrx",
      "include_colab_link": true
    },
    "kernelspec": {
      "name": "python3",
      "display_name": "Python 3"
    },
    "language_info": {
      "name": "python"
    }
  },
  "cells": [
    {
      "cell_type": "markdown",
      "metadata": {
        "id": "view-in-github",
        "colab_type": "text"
      },
      "source": [
        "<a href=\"https://colab.research.google.com/github/tadongguk98/Learn_flask_python/blob/master/Untitled1.ipynb\" target=\"_parent\"><img src=\"https://colab.research.google.com/assets/colab-badge.svg\" alt=\"Open In Colab\"/></a>"
      ]
    },
    {
      "cell_type": "code",
      "source": [],
      "metadata": {
        "id": "RpIG5WJ-blpO"
      },
      "execution_count": null,
      "outputs": []
    },
    {
      "cell_type": "markdown",
      "source": [
        "new\n"
      ],
      "metadata": {
        "id": "wCHSN3QDbmGb"
      }
    },
    {
      "cell_type": "markdown",
      "source": [],
      "metadata": {
        "id": "mEypqOj3a5Zt"
      }
    },
    {
      "cell_type": "code",
      "source": [
        "\n",
        "import numpy as np\n",
        "from sklearn.model_selection import train_test_split\n",
        "from sklearn.preprocessing import PolynomialFeatures\n",
        "from sklearn.linear_model import LinearRegression\n",
        "from sklearn.metrics import mean_squared_error\n",
        "\n",
        "# Hàm mẫu -1.8 + 2.7*x - 0.15*x**2 + np.random.normal(0, 3, n)\n",
        "def generate_data(n):\n",
        "    np.random.seed(42)\n",
        "    x = np.random.uniform(0, 10, n)\n",
        "    y = -1.8 + 2.7*x - 0.15*x**2 + np.random.normal(0, 3, n)\n",
        "    return x.reshape(-1, 1), y\n",
        "\n",
        "# Tạo dữ liệu thực\n",
        "n = 2000\n",
        "X, y = generate_data(n)\n",
        "\n",
        "# Chia dữ liệu\n",
        "X_train, X_temp, y_train, y_temp = train_test_split(X, y, test_size=0.4, random_state=42)\n",
        "X_val, X_test, y_val, y_test = train_test_split(X_temp, y_temp, test_size=0.5, random_state=42)\n",
        "\n",
        "# Tạo đặc trưng đa thức bậc 1\n",
        "poly_features = PolynomialFeatures(degree=1, include_bias=False)\n",
        "X_train_poly = poly_features.fit_transform(X_train)\n",
        "X_val_poly = poly_features.transform(X_val)\n",
        "X_test_poly = poly_features.transform(X_test)\n",
        "\n",
        "# Tạo đặc trưng chứa logarit\n",
        "def log_features(X):\n",
        "    return np.log1p(X)\n",
        "\n",
        "X_train_log = log_features(X_train)\n",
        "X_val_log = log_features(X_val)\n",
        "X_test_log = log_features(X_test)\n",
        "\n",
        "# Huấn luyện mô hình Linear Regression trên dữ liệu có đa thức chứa logarit\n",
        "model = LinearRegression()\n",
        "model.fit(X_train_log, y_train)\n",
        "\n",
        "# Dự đoán trên tập train, validation và test\n",
        "y_train_pred = model.predict(X_train_log)\n",
        "y_val_pred = model.predict(X_val_log)\n",
        "y_test_pred = model.predict(X_test_log)\n",
        "\n",
        "# Tính MSE trên tập train, validation và test\n",
        "mse_train = mean_squared_error(y_train, y_train_pred)\n",
        "mse_val = mean_squared_error(y_val, y_val_pred)\n",
        "mse_test = mean_squared_error(y_test, y_test_pred)\n",
        "\n",
        "print(\"MSE on train set:\", mse_train)\n",
        "print(\"MSE on validation set:\", mse_val)\n",
        "print(\"MSE on test set:\", mse_test)\n"
      ],
      "metadata": {
        "colab": {
          "base_uri": "https://localhost:8080/"
        },
        "id": "cHQ3mwvgau95",
        "outputId": "9069e9ae-d923-4bf7-9f8f-710cfe395f81"
      },
      "execution_count": null,
      "outputs": [
        {
          "output_type": "stream",
          "name": "stdout",
          "text": [
            "MSE on train set: 8.95965139250208\n",
            "MSE on validation set: 9.625216170201792\n",
            "MSE on test set: 9.667368026747173\n"
          ]
        }
      ]
    },
    {
      "cell_type": "code",
      "source": [
        "\n",
        "import numpy as np\n",
        "from sklearn.model_selection import train_test_split\n",
        "from sklearn.preprocessing import PolynomialFeatures, FunctionTransformer\n",
        "from sklearn.linear_model import LinearRegression\n",
        "from sklearn.metrics import mean_squared_error\n",
        "\n",
        "# Hàm mẫu -1.8 + 2.7*x - 0.15*x**2 + np.random.normal(0, 3, n)\n",
        "def generate_data(n):\n",
        "    np.random.seed(42)\n",
        "    x = np.random.uniform(0, 10, n)\n",
        "    y = -1.8 + 2.7*x - 0.15*x**2 + np.random.normal(0, 3, n)\n",
        "    return x.reshape(-1, 1), y\n",
        "\n",
        "# Tạo dữ liệu thực\n",
        "n = 2000\n",
        "X, y = generate_data(n)\n",
        "\n",
        "# Chia dữ liệu\n",
        "X_train, X_temp, y_train, y_temp = train_test_split(X, y, test_size=0.4, random_state=42)\n",
        "X_val, X_test, y_val, y_test = train_test_split(X_temp, y_temp, test_size=0.5, random_state=42)\n",
        "\n",
        "# Tạo đặc trưng đa thức bậc 1\n",
        "poly_features = PolynomialFeatures(degree=1, include_bias=False)\n",
        "X_train_poly = poly_features.fit_transform(X_train)\n",
        "X_val_poly = poly_features.transform(X_val)\n",
        "X_test_poly = poly_features.transform(X_test)\n",
        "\n",
        "# Tạo hàm function để tính logarit\n",
        "log_transformer = FunctionTransformer(func=np.log1p, inverse_func=np.expm1)\n",
        "\n",
        "# Huấn luyện mô hình Linear Regression trên dữ liệu đã được logarit\n",
        "X_train_log = log_transformer.fit_transform(X_train)\n",
        "X_val_log = log_transformer.transform(X_val)\n",
        "X_test_log = log_transformer.transform(X_test)\n",
        "\n",
        "model = LinearRegression()\n",
        "model.fit(X_train_log, y_train)\n",
        "\n",
        "# Dự đoán trên tập train, validation và test\n",
        "y_train_pred = model.predict(X_train_log)\n",
        "y_val_pred = model.predict(X_val_log)\n",
        "y_test_pred = model.predict(X_test_log)\n",
        "\n",
        "# Tính MSE trên tập train, validation và test\n",
        "mse_train = mean_squared_error(y_train, y_train_pred)\n",
        "mse_val = mean_squared_error(y_val, y_val_pred)\n",
        "mse_test = mean_squared_error(y_test, y_test_pred)\n",
        "\n",
        "print(\"MSE on train set:\", mse_train)\n",
        "print(\"MSE on validation set:\", mse_val)\n",
        "print(\"MSE on test set:\", mse_test)\n"
      ],
      "metadata": {
        "colab": {
          "base_uri": "https://localhost:8080/"
        },
        "id": "mWhhRv3Lb0mf",
        "outputId": "eaceafc1-13d0-411d-ae13-17301fa8c860"
      },
      "execution_count": null,
      "outputs": [
        {
          "output_type": "stream",
          "name": "stdout",
          "text": [
            "MSE on train set: 8.95965139250208\n",
            "MSE on validation set: 9.625216170201792\n",
            "MSE on test set: 9.667368026747173\n"
          ]
        }
      ]
    },
    {
      "cell_type": "code",
      "source": [
        "\n",
        "\n",
        "\n",
        "\n",
        "\n",
        "# Đánh giá hiệu suất của best model trên tập test\n",
        "y_test_pred = best_model.predict(X_test)\n",
        "mse_test = mean_squared_error(y_test, y_test_pred)\n",
        "print(\"\\nMSE on test set - Best model:\", mse_test)\n"
      ],
      "metadata": {
        "colab": {
          "base_uri": "https://localhost:8080/"
        },
        "id": "F5IgtC3lfYmn",
        "outputId": "4fba5b9f-3810-4283-be70-68c2c319d5e8"
      },
      "execution_count": null,
      "outputs": [
        {
          "output_type": "stream",
          "name": "stdout",
          "text": [
            "\n",
            "MSE on test set - Best model: 9.419545339911267\n"
          ]
        }
      ]
    },
    {
      "cell_type": "markdown",
      "source": [
        "jsjsss\n"
      ],
      "metadata": {
        "id": "l43_KWdUf2UT"
      }
    },
    {
      "cell_type": "markdown",
      "source": [
        "nsjs\n"
      ],
      "metadata": {
        "id": "L1hR47ONf5S_"
      }
    },
    {
      "cell_type": "code",
      "source": [],
      "metadata": {
        "id": "ijvMfv-zf3dM"
      },
      "execution_count": null,
      "outputs": []
    },
    {
      "cell_type": "markdown",
      "source": [
        "new example\n"
      ],
      "metadata": {
        "id": "jkhgLm2Xc8KO"
      }
    },
    {
      "cell_type": "code",
      "source": [
        "\n",
        "import numpy as np\n",
        "from sklearn.model_selection import train_test_split\n",
        "from sklearn.preprocessing import PolynomialFeatures, FunctionTransformer\n",
        "from sklearn.linear_model import LinearRegression\n",
        "from sklearn.metrics import mean_squared_error\n",
        "\n",
        "# Hàm mẫu -1.8 + 2.7*x - 0.15*x**2 + np.random.normal(0, 3, n)\n",
        "def generate_data(n):\n",
        "    np.random.seed(42)\n",
        "    x = np.random.uniform(0, 10, n)\n",
        "    y = -1.8 + 2.7*x - 0.15*x**2 + np.random.normal(0, 3, n)\n",
        "    return x.reshape(-1, 1), y\n",
        "\n",
        "# Tạo dữiệu thực\n",
        "\n",
        "\n",
        "\n",
        "# Chia dữ liệu\n",
        "\n",
        "\n",
        "# Tạo hàm function để tính logarit\n",
        "log_transformer = FunctionTransformer(func=np.log1p, inverse_func=np.expm1)\n",
        "\n",
        "# Huấn luyện và đánh giá các mô hình\n",
        "models = [1, 2, 3]\n",
        "best_model = None\n",
        "best_mse = float('inf')\n",
        "\n",
        "for deg in models:\n",
        "    # Tạo đặc trưng đa thức\n",
        "    poly_features = PolynomialFeatures(degree=deg, include_bias=False)\n",
        "    X_train_poly = poly_features.fit_transform(X_train)\n",
        "    X_val_poly = poly_features.transform(X_val)\n",
        "\n",
        "    # Tính logarit cho đặc trưng\n",
        "    X_train_log = log_transformer.fit_transform(X_train_poly)\n",
        "    X_val_log = log_transformer.transform(X_val_poly)\n",
        "\n",
        "    # Huấn luyện mô hình Linear Regression\n",
        "    model = LinearRegression()\n",
        "    model.fit(X_train_log, y_train)\n",
        "\n",
        "    # Đo lường MSE trên tập validation\n",
        "    y_val_pred = model.predict(X_val_log)\n",
        "    mse_val = mean_squared_error(y_val, y_val_pred)\n",
        "\n",
        "    if mse_val < best_mse:\n",
        "        best_mse = mse_val\n",
        "        best_model = model\n",
        "        best_degree = deg\n",
        "\n",
        "print(\"Best model degree:\", best_degree)\n",
        "print(\"MSE on validation set:\", best_mse)\n"
      ],
      "metadata": {
        "colab": {
          "base_uri": "https://localhost:8080/"
        },
        "id": "zOAomKKFc-S2",
        "outputId": "19050a63-81bd-4806-c067-c4ab6f9b8874"
      },
      "execution_count": null,
      "outputs": [
        {
          "output_type": "stream",
          "name": "stdout",
          "text": [
            "Best model degree: 3\n",
            "MSE on validation set: 9.369494165068168\n"
          ]
        }
      ]
    },
    {
      "cell_type": "markdown",
      "source": [
        "new exaple 2\n"
      ],
      "metadata": {
        "id": "EA7I5PBaeiS0"
      }
    },
    {
      "cell_type": "markdown",
      "source": [
        "jsjs\n"
      ],
      "metadata": {
        "id": "4WxQZg5Tf-WJ"
      }
    },
    {
      "cell_type": "code",
      "source": [
        "\n",
        "import numpy as np\n",
        "from sklearn.model_selection import train_test_split\n",
        "from sklearn.preprocessing import PolynomialFeatures, FunctionTransformer\n",
        "from sklearn.linear_model import LinearRegression\n",
        "from sklearn.pipeline import Pipeline\n",
        "from sklearn.metrics import mean_squared_error\n",
        "\n",
        "# Hàm mẫu -1.8 + 2.7*x - 0.15*x**2 + np.random.normal(0, 3, n)\n",
        "def generate_data(n):\n",
        "    np.random.seed(42)\n",
        "    x = np.random.uniform(0, 10, n)\n",
        "    y = -1.8 + 2.7*x - 0.15*x**2 + np.random.normal(0, 3, n)\n",
        "    return x.reshape(-1, 1), y\n",
        "\n",
        "# Tạo dữ liệu thực\n",
        "n = 2000\n",
        "X, y = generate_data(n)\n",
        "\n",
        "# Chia dữ liệu\n",
        "X_train, X_temp, y_train, y_temp = train_test_split(X, y, test_size=0.4, random_state=42)\n",
        "X_val, X_test, y_val, y_test = train_test_split(X_temp, y_temp, test_size=0.5, random_state=42)\n",
        "\n",
        "# Tạo Pipelines cho từng mô hình\n",
        "models = {\n",
        "    'Linear': Pipeline([('poly', PolynomialFeatures(degree=1)), ('model', LinearRegression())]),\n",
        "    'Quadratic': Pipeline([('poly', PolynomialFeatures(degree=2)), ('model', LinearRegression())]),\n",
        "    'Cubic': Pipeline([('poly', PolynomialFeatures(degree=3)), ('model', LinearRegression())]),\n",
        "    'Log': Pipeline([('poly', PolynomialFeatures(degree=1)), ('log', FunctionTransformer(func=np.log1p, inverse_func=np.expm1)), ('model', LinearRegression())])\n",
        "}\n",
        "\n",
        "best_model = None\n",
        "best_mse = float('inf')\n",
        "\n",
        "for name, model in models.items():\n",
        "    model.fit(X_train, y_train)\n",
        "    y_val_pred = model.predict(X_val)\n",
        "    mse = mean_squared_error(y_val, y_val_pred)\n",
        "    print(f\"{name}: MSE on validation set - {mse}\")\n",
        "\n",
        "    if mse < best_mse:\n",
        "        best_mse = mse\n",
        "        best_model = model\n",
        "\n",
        "print(\"\\nBest model - MSE on validation set:\", best_mse)\n",
        "\n"
      ],
      "metadata": {
        "colab": {
          "base_uri": "https://localhost:8080/"
        },
        "id": "7yZyXtSUekzu",
        "outputId": "441af84d-f68f-4c9c-e0e9-2f58a643465a"
      },
      "execution_count": null,
      "outputs": [
        {
          "output_type": "stream",
          "name": "stdout",
          "text": [
            "Linear: MSE on validation set - 10.606037866786458\n",
            "Quadratic: MSE on validation set - 9.049053193338805\n",
            "Cubic: MSE on validation set - 9.176497922960865\n",
            "Log: MSE on validation set - 9.625216170201792\n",
            "\n",
            "Best model - MSE on validation set: 9.049053193338805\n"
          ]
        }
      ]
    },
    {
      "cell_type": "code",
      "source": [
        "\n",
        "import numpy as np\n",
        "from sklearn.model_selection import train_test_split\n",
        "from sklearn.preprocessing import PolynomialFeatures, FunctionTransformer\n",
        "from sklearn.linear_model import LinearRegression\n",
        "from sklearn.pipeline import Pipeline\n",
        "from sklearn.metrics import mean_squared_error\n",
        "\n",
        "# Hàm mẫu -1.8 + 2.7*x - 0.15*x**2 + np.random.normal(0, 3, n)\n",
        "def generate_data(n):\n",
        "    np.random.seed(42)\n",
        "    x = np.random.uniform(0, 10, n)\n",
        "    y = -1.8 + 2.7*x - 0.15*x**2 + np.random.normal(0, 3, n)\n",
        "    return x.reshape(-1, 1), y\n",
        "\n",
        "# Tạo dữ liệu thực\n",
        "n = 2000\n",
        "X, y = generate_data(n)\n",
        "\n",
        "# Chia dữ liệu\n",
        "X_train, X_temp, y_train, y_temp = train_test_split(X, y, test_size=0.4, random_state=42)\n",
        "X_val, X_test, y_val, y_test = train_test_split(X_temp, y_temp, test_size=0.5, random_state=42)\n",
        "\n",
        "# Tạo hàm function để tính logarit\n",
        "log_transformer = FunctionTransformer(func=np.log1p, inverse_func=np.expm1)\n",
        "\n",
        "# Tạo Pipelines cho từng mô hình đa thức\n",
        "models = {\n",
        "    'Linear': Pipeline([('poly', PolynomialFeatures(degree=1)), ('model', LinearRegression())]),\n",
        "    'Quadratic': Pipeline([('poly', PolynomialFeatures(degree=2)), ('model', LinearRegression())]),\n",
        "    'Cubic': Pipeline([('poly', PolynomialFeatures(degree=3)), ('model', LinearRegression())]),\n",
        "    'Log': Pipeline([('poly', PolynomialFeatures(degree=1)), ('log', FunctionTransformer(func=np.log1p, inverse_func=np.expm1)), ('model', LinearRegression())])\n",
        "}\n",
        "\n",
        "mse_validation = {}\n",
        "mse_test = {}\n",
        "\n",
        "for name, model in models.items():\n",
        "    model.fit(X_train, y_train)\n",
        "\n",
        "    # Đo lường MSE trên tập validation\n",
        "    y_val_pred = model.predict(X_val)\n",
        "    mse_val = mean_squared_error(y_val, y_val_pred)\n",
        "    mse_validation[name] = mse_val\n",
        "\n",
        "    # Đo lường MSE trên tập test\n",
        "    y_test_pred = model.predict(X_test)\n",
        "    mse_tst = mean_squared_error(y_test, y_test_pred)\n",
        "    mse_test[name] = mse_tst\n",
        "\n",
        "print(\"MSE on validation set:\")\n",
        "for name, mse_val in mse_validation.items():\n",
        "    print(f\"{name}: {mse_val}\")\n",
        "\n",
        "print(\"\\nMSE on test set:\")\n",
        "for name, mse_tst in mse_test.items():\n",
        "    print(f\"{name}: {mse_tst}\")\n"
      ],
      "metadata": {
        "colab": {
          "base_uri": "https://localhost:8080/"
        },
        "id": "ITG9nVismvJf",
        "outputId": "da1d79fd-ae7b-464f-e712-aaa61511351f"
      },
      "execution_count": null,
      "outputs": [
        {
          "output_type": "stream",
          "name": "stdout",
          "text": [
            "MSE on validation set:\n",
            "Linear: 10.606037866786458\n",
            "Quadratic: 9.049053193338805\n",
            "Cubic: 9.176497922960865\n",
            "Log: 9.625216170201792\n",
            "\n",
            "MSE on test set:\n",
            "Linear: 10.495590506413873\n",
            "Quadratic: 9.419545339911267\n",
            "Cubic: 9.484613021737726\n",
            "Log: 9.667368026747173\n"
          ]
        }
      ]
    }
  ]
}